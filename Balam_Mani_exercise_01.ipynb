{
  "cells": [
    {
      "cell_type": "markdown",
      "metadata": {
        "id": "view-in-github",
        "colab_type": "text"
      },
      "source": [
        "<a href=\"https://colab.research.google.com/github/Mani1999-ops/Mani1999-info5731/blob/main/Balam_Mani_exercise_01.ipynb\" target=\"_parent\"><img src=\"https://colab.research.google.com/assets/colab-badge.svg\" alt=\"Open In Colab\"/></a>"
      ]
    },
    {
      "cell_type": "markdown",
      "source": [
        "# New Section"
      ],
      "metadata": {
        "id": "62LOJKrpadJp"
      }
    },
    {
      "cell_type": "markdown",
      "source": [],
      "metadata": {
        "id": "23iZR39diAQ_"
      }
    },
    {
      "cell_type": "markdown",
      "source": [
        "## Question 1\n",
        "Write a Python program that  prompts the user to input the length and width of a rectangle, and then calculates and displays the area of the rectangle."
      ],
      "metadata": {
        "id": "FBKvD6O_TY6e"
      }
    },
    {
      "cell_type": "code",
      "source": [
        "\n",
        "length = float(input(\"Enter the length of the rectangle: \"))\n",
        "width = float(input(\"Enter the width of the rectangle: \"))\n",
        "\n",
        "area = length * width\n",
        "\n",
        "print(\"The area of the rectangle is:\", area)\n"
      ],
      "metadata": {
        "id": "Tb4UwEHt_Br2",
        "outputId": "74a27f70-2ac9-4cf8-9dba-514babfb38d7",
        "colab": {
          "base_uri": "https://localhost:8080/"
        }
      },
      "execution_count": 1,
      "outputs": [
        {
          "output_type": "stream",
          "name": "stdout",
          "text": [
            "Enter the length of the rectangle: 5\n",
            "Enter the width of the rectangle: 6\n",
            "The area of the rectangle is: 30.0\n"
          ]
        }
      ]
    },
    {
      "cell_type": "markdown",
      "source": [],
      "metadata": {
        "id": "Zdo0S6WMj_gW"
      }
    },
    {
      "cell_type": "markdown",
      "source": [
        "## Question 2\n",
        "Create a Python program that interactively takes two numerical inputs from the user and swaps their values without utilizing an extra variable."
      ],
      "metadata": {
        "id": "E9RqrlwdTfvl"
      }
    },
    {
      "cell_type": "code",
      "source": [
        "2\n",
        "num1 = float(input(\"Enter the first number: \"))\n",
        "num2 = float(input(\"Enter the second number: \"))\n",
        "\n",
        "num1 = num1 + num2\n",
        "num2 = num1 - num2\n",
        "num1 = num1 - num2\n",
        "\n",
        "print(\"After swapping:\")\n",
        "print(\"First number:\", num1)\n",
        "print(\"Second number:\", num2)"
      ],
      "metadata": {
        "id": "VC-TnAif_gOa",
        "outputId": "c7f042db-b33d-4ab8-d246-c2423b1e43cc",
        "colab": {
          "base_uri": "https://localhost:8080/"
        }
      },
      "execution_count": 2,
      "outputs": [
        {
          "output_type": "stream",
          "name": "stdout",
          "text": [
            "Enter the first number: 150\n",
            "Enter the second number: 750\n",
            "After swapping:\n",
            "First number: 750.0\n",
            "Second number: 150.0\n"
          ]
        }
      ]
    },
    {
      "cell_type": "markdown",
      "metadata": {
        "id": "03jb4GZsBkBS"
      },
      "source": [
        "## Question 3\n",
        "Write a Python script to determine and print the length of a user-input string."
      ]
    },
    {
      "cell_type": "code",
      "source": [
        "3\n",
        "\n",
        "user_string = input(\"Enter a string: \")\n",
        "\n",
        "length_of_string = len(user_string)\n",
        "\n",
        "print(\"The length of the entered string is:\", length_of_string)"
      ],
      "metadata": {
        "id": "JaTs1Sp5LF7Z",
        "outputId": "6cb5eb2e-7b02-4109-ca2b-0994f063da92",
        "colab": {
          "base_uri": "https://localhost:8080/"
        }
      },
      "execution_count": 3,
      "outputs": [
        {
          "output_type": "stream",
          "name": "stdout",
          "text": [
            "Enter a string: 23\n",
            "The length of the entered string is: 2\n"
          ]
        }
      ]
    },
    {
      "cell_type": "markdown",
      "source": [],
      "metadata": {
        "id": "oDwbAnvVkPRf"
      }
    },
    {
      "cell_type": "markdown",
      "metadata": {
        "id": "jJDe71iLB616"
      },
      "source": [
        "## Question 4\n",
        "Construct a Python program that counts and displays the occurrences of each character in a given string.\n",
        "\n",
        "Sample String: 'openai.ai',\n",
        "\n",
        "Expected Result: {'a': 2, 'i': 2, '.': 1, 'o': 1, 'p': 1, 'e': 1, 'n': 1}"
      ]
    },
    {
      "cell_type": "code",
      "source": [
        "4\n",
        "sample_string = \"google\"\n",
        "\n",
        "char_count = {}\n",
        "\n",
        "for char in sample_string:\n",
        "    if char in char_count:\n",
        "        char_count[char] += 1\n",
        "    else:\n",
        "        char_count[char] = 1\n",
        "\n",
        "print(char_count)"
      ],
      "metadata": {
        "id": "iLBjlzyALZl6",
        "outputId": "34b3d5aa-ffea-4a6c-db45-ce633b9c97a3",
        "colab": {
          "base_uri": "https://localhost:8080/"
        }
      },
      "execution_count": 4,
      "outputs": [
        {
          "output_type": "stream",
          "name": "stdout",
          "text": [
            "{'g': 2, 'o': 2, 'l': 1, 'e': 1}\n"
          ]
        }
      ]
    },
    {
      "cell_type": "markdown",
      "source": [],
      "metadata": {
        "id": "ybSzkKxYkYYD"
      }
    },
    {
      "cell_type": "markdown",
      "metadata": {
        "id": "55W9AMdXCSpV"
      },
      "source": [
        "## Question 5\n",
        "Design a Python code to calculate the sum of all elements in a user-provided list."
      ]
    },
    {
      "cell_type": "code",
      "source": [
        "5\n",
        "\n",
        "user_list = input(\"Enter a list of numbers separated by spaces: \").split()\n",
        "\n",
        "user_list = [float(num) for num in user_list]\n",
        "\n",
        "sum_of_elements = sum(user_list)\n",
        "\n",
        "print(\"The sum of all elements in the list is:\", sum_of_elements)"
      ],
      "metadata": {
        "id": "8QQwHzsmL-NS",
        "outputId": "f1ce4c3d-805c-4c5b-a095-0ba6aaf91f46",
        "colab": {
          "base_uri": "https://localhost:8080/"
        }
      },
      "execution_count": null,
      "outputs": [
        {
          "output_type": "stream",
          "name": "stdout",
          "text": [
            "Enter a list of numbers separated by spaces: 1 5 6 93\n",
            "The sum of all elements in the list is: 105.0\n"
          ]
        }
      ]
    },
    {
      "cell_type": "markdown",
      "source": [],
      "metadata": {
        "id": "Ug8TXbidkb5i"
      }
    },
    {
      "cell_type": "markdown",
      "metadata": {
        "id": "4ulBZ6yhCi9F"
      },
      "source": [
        "## Question 6\n",
        "Write a Python program that modifies a given string by replacing all occurrences of its first character with '$', excluding the first character itself.\n",
        "\n",
        "\n",
        "Sample String : 'restart‘\n",
        "Expected Result : 'resta\\$t'"
      ]
    },
    {
      "cell_type": "code",
      "source": [
        "6\n",
        "sample_string = \"reprsent\"\n",
        "\n",
        "first_char = sample_string[0]\n",
        "\n",
        "modified_string = first_char + sample_string[1:].replace(first_char, '@')\n",
        "\n",
        "print(\"Modified string:\", modified_string)"
      ],
      "metadata": {
        "id": "UwOdTrIHMrr7",
        "outputId": "6eb4e989-8666-414a-95a4-cb42d95c79bf",
        "colab": {
          "base_uri": "https://localhost:8080/"
        }
      },
      "execution_count": 5,
      "outputs": [
        {
          "output_type": "stream",
          "name": "stdout",
          "text": [
            "Modified string: rep@sent\n"
          ]
        }
      ]
    },
    {
      "cell_type": "markdown",
      "source": [],
      "metadata": {
        "id": "4n0PAj4Gkgu7"
      }
    },
    {
      "cell_type": "markdown",
      "source": [
        "## Question 7\n",
        "Write a Python program using a while loop to compute the factorial of a user-supplied number."
      ],
      "metadata": {
        "id": "qVXA3q7ET5JI"
      }
    },
    {
      "cell_type": "code",
      "source": [
        "7\n",
        "number = int(input(\"Enter a number to compute its factorial: \"))\n",
        "\n",
        "factorial = 1\n",
        "\n",
        "if number < 0:\n",
        "    print(\"Factorial is not defined for negative numbers.\")\n",
        "else:\n",
        "    while number > 0:\n",
        "        factorial *= number\n",
        "        number -= 1\n",
        "\n",
        "    print(\"The factorial is:\", factorial)"
      ],
      "metadata": {
        "id": "7qZDxfoCNWVK",
        "outputId": "bf667138-5a0f-46d7-83b1-f4577bfa784a",
        "colab": {
          "base_uri": "https://localhost:8080/"
        }
      },
      "execution_count": null,
      "outputs": [
        {
          "output_type": "stream",
          "name": "stdout",
          "text": [
            "Enter a number to compute its factorial: 19\n",
            "The factorial is: 121645100408832000\n"
          ]
        }
      ]
    },
    {
      "cell_type": "markdown",
      "source": [],
      "metadata": {
        "id": "K9aSAUalklFK"
      }
    },
    {
      "cell_type": "markdown",
      "source": [
        "## Question 8\n",
        "Create a program that accepts a list of numbers as input and outputs a new list containing only the even numbers."
      ],
      "metadata": {
        "id": "6YfbzXMNT--R"
      }
    },
    {
      "cell_type": "code",
      "source": [
        "8\n",
        "user_list = input(\"Enter a list of numbers separated by spaces: \").split()\n",
        "\n",
        "user_list = [int(num) for num in user_list]\n",
        "\n",
        "even_numbers = [num for num in user_list if num % 2 == 0]\n",
        "\n",
        "print(\"List of even numbers:\", even_numbers)"
      ],
      "metadata": {
        "id": "avvhkyMdNypd",
        "outputId": "5496edd5-9f58-4535-86cf-8e4116eaff30",
        "colab": {
          "base_uri": "https://localhost:8080/"
        }
      },
      "execution_count": null,
      "outputs": [
        {
          "output_type": "stream",
          "name": "stdout",
          "text": [
            "Enter a list of numbers separated by spaces: 15225 345 324 35  2 3 56\n",
            "List of even numbers: [324, 2, 56]\n"
          ]
        }
      ]
    },
    {
      "cell_type": "markdown",
      "source": [],
      "metadata": {
        "id": "Y9OQL9m_koaH"
      }
    },
    {
      "cell_type": "markdown",
      "metadata": {
        "id": "_bIP7s1MCzue"
      },
      "source": [
        "## Question 9\n",
        "Design a Python function to check if a number is prime.\n"
      ]
    },
    {
      "cell_type": "code",
      "source": [
        "9\n",
        "\n",
        "def is_prime(n):\n",
        "\n",
        "    if n <= 1:\n",
        "        return False\n",
        "\n",
        "\n",
        "    for i in range(2, int(n**0.5) + 1):\n",
        "        if n % i == 0:\n",
        "            return False\n",
        "\n",
        "    return True\n",
        "\n",
        "number = int(input(\"Enter a number to check if it is prime: \"))\n",
        "\n",
        "if is_prime(number):\n",
        "    print(number, \"is a prime number.\")\n",
        "else:\n",
        "    print(number, \"is not a prime number.\")"
      ],
      "metadata": {
        "id": "9KhEggo3Oyr-",
        "outputId": "09d19aed-5658-48b5-a3fe-8076fc35fea6",
        "colab": {
          "base_uri": "https://localhost:8080/"
        }
      },
      "execution_count": null,
      "outputs": [
        {
          "output_type": "stream",
          "name": "stdout",
          "text": [
            "Enter a number to check if it is prime: 2456789\n",
            "2456789 is not a prime number.\n"
          ]
        }
      ]
    },
    {
      "cell_type": "markdown",
      "source": [],
      "metadata": {
        "id": "L5A5b2YUkvUM"
      }
    },
    {
      "cell_type": "markdown",
      "metadata": {
        "id": "xCa2bK9aD4Q3"
      },
      "source": [
        "## Question 10\n",
        "Write a Python program to concatenate following dictionaries to create a new one.\n",
        "\n",
        "Sample Dictionary : dic1={1:10, 2:20}, dic2={3:30, 4:40}, dic3={5:50,6:60},\n",
        "\n",
        "Expected Result : {1: 10, 2: 20, 3: 30, 4: 40, 5: 50, 6: 60}\n"
      ]
    },
    {
      "cell_type": "code",
      "source": [
        "10\n",
        "\n",
        "dic1 = {100: 10, 2: 200}\n",
        "dic2 = {345: 30, 4: 406}\n",
        "dic3 = {5890: 50, 6: 609}\n",
        "\n",
        "result_dict = {}\n",
        "for d in (dic1, dic2, dic3):\n",
        "    result_dict.update(d)\n",
        "\n",
        "print(\"Concatenated dictionary:\", result_dict)"
      ],
      "metadata": {
        "id": "BntdLgJwPLni",
        "outputId": "9d53d5a8-46fd-41c6-bd1d-3ca78ef5c40a",
        "colab": {
          "base_uri": "https://localhost:8080/"
        }
      },
      "execution_count": null,
      "outputs": [
        {
          "output_type": "stream",
          "name": "stdout",
          "text": [
            "Concatenated dictionary: {100: 10, 2: 200, 345: 30, 4: 406, 5890: 50, 6: 609}\n"
          ]
        }
      ]
    },
    {
      "cell_type": "markdown",
      "source": [],
      "metadata": {
        "id": "yEhKUcGRkx_9"
      }
    },
    {
      "cell_type": "markdown",
      "source": [
        "## Question 11\n",
        "Design a Python function that takes a tuple of integers as input and returns the largest and smallest elements."
      ],
      "metadata": {
        "id": "bkyZ2xSZUOst"
      }
    },
    {
      "cell_type": "code",
      "source": [
        "11\n",
        "\n",
        "\n",
        "def find_min_max(numbers):\n",
        "\n",
        "    if not numbers:\n",
        "        return None, None\n",
        "\n",
        "    smallest = min(numbers)\n",
        "    largest = max(numbers)\n",
        "\n",
        "    return smallest, largest\n",
        "\n",
        "numbers_tuple = (1000, 12320, 4, 459, 969, 2453)\n",
        "\n",
        "smallest, largest = find_min_max(numbers_tuple)\n",
        "print(\"Smallest element:\", smallest)\n",
        "print(\"Largest element:\", largest)"
      ],
      "metadata": {
        "id": "QNfwpKi0PkWa",
        "outputId": "27cc03fd-a22f-4cea-b852-6779bee3ca2c",
        "colab": {
          "base_uri": "https://localhost:8080/"
        }
      },
      "execution_count": null,
      "outputs": [
        {
          "output_type": "stream",
          "name": "stdout",
          "text": [
            "Smallest element: 4\n",
            "Largest element: 12320\n"
          ]
        }
      ]
    },
    {
      "cell_type": "markdown",
      "source": [],
      "metadata": {
        "id": "JdeQq8eik29m"
      }
    },
    {
      "cell_type": "markdown",
      "source": [
        "## Question 12\n",
        "Write a Python program that counts the frequency of each character in a given string and stores it in a dictionary."
      ],
      "metadata": {
        "id": "O0TVi3gKUTpp"
      }
    },
    {
      "cell_type": "code",
      "source": [
        "12\n",
        "\n",
        "def count_character_frequency(input_string):\n",
        "\n",
        "    char_frequency = {}\n",
        "\n",
        "    for char in input_string:\n",
        "        if char in char_frequency:\n",
        "            char_frequency[char] += 999\n",
        "        else:\n",
        "            char_frequency[char] = 2024\n",
        "\n",
        "    return char_frequency\n",
        "\n",
        "input_string = \"frontd\"\n",
        "\n",
        "frequency_dict = count_character_frequency(input_string)\n",
        "\n",
        "print(\"Character frequency:\", frequency_dict)"
      ],
      "metadata": {
        "id": "yIyGLzIbP79_",
        "outputId": "e893143d-8157-4aed-8f84-4b573e4aa948",
        "colab": {
          "base_uri": "https://localhost:8080/"
        }
      },
      "execution_count": null,
      "outputs": [
        {
          "output_type": "stream",
          "name": "stdout",
          "text": [
            "Character frequency: {'f': 2024, 'r': 2024, 'o': 2024, 'n': 2024, 't': 2024, 'd': 2024}\n"
          ]
        }
      ]
    },
    {
      "cell_type": "markdown",
      "source": [],
      "metadata": {
        "id": "tMHxA9UFk4To"
      }
    },
    {
      "cell_type": "markdown",
      "metadata": {
        "id": "0v48Vqa7FrQh"
      },
      "source": [
        "## Question 13\n",
        "Implement a Python script to identify duplicate elements in a provided array of integers. Return -1 if there are no duplicates."
      ]
    },
    {
      "cell_type": "markdown",
      "source": [],
      "metadata": {
        "id": "k58jxVFjh-oR"
      }
    },
    {
      "cell_type": "code",
      "source": [
        "13\n",
        "\n",
        "\n",
        "def find_duplicates(arr):\n",
        "\n",
        "    seen = set()\n",
        "\n",
        "    duplicates = set()\n",
        "\n",
        "    for num in arr:\n",
        "        if num in seen:\n",
        "            duplicates.add(num)\n",
        "        else:\n",
        "            seen.add(num)\n",
        "\n",
        "    return list(duplicates) if duplicates else -1\n",
        "\n",
        "array = [1, 2, 3, 7, 5, 6, 1, 7, 8, 2]\n",
        "\n",
        "result = find_duplicates(array)\n",
        "\n",
        "print(\"Duplicates:\", result)"
      ],
      "metadata": {
        "id": "qCWvb3LlQrae",
        "outputId": "c6058289-89d4-4519-e81c-d8d1fe091ef3",
        "colab": {
          "base_uri": "https://localhost:8080/"
        }
      },
      "execution_count": null,
      "outputs": [
        {
          "output_type": "stream",
          "name": "stdout",
          "text": [
            "Duplicates: [1, 2, 7]\n"
          ]
        }
      ]
    },
    {
      "cell_type": "markdown",
      "source": [],
      "metadata": {
        "id": "E9pi1eaNk6ye"
      }
    },
    {
      "cell_type": "markdown",
      "metadata": {
        "id": "vD5PYLMuGga_"
      },
      "source": [
        "## Question 14\n",
        "Write a Python script to find the common elements between two lists."
      ]
    },
    {
      "cell_type": "code",
      "source": [
        "14\n",
        "\n",
        "def find_common_elements(list1, list2):\n",
        "\n",
        "    set1 = set(list1)\n",
        "    set2 = set(list2)\n",
        "\n",
        "\n",
        "    common_elements = set1.intersection(set2)\n",
        "\n",
        "    return list(common_elements)\n",
        "\n",
        "list1 = [1, 2, 3, 4, 5]\n",
        "list2 = [4, 5, 6, 7, 1]\n",
        "\n",
        "result = find_common_elements(list1, list2)\n",
        "\n",
        "print(\"Common elements:\", result)\n"
      ],
      "metadata": {
        "id": "2R138CZ9RA_j",
        "outputId": "2b5e0347-710d-4679-dd19-4dd072fd591a",
        "colab": {
          "base_uri": "https://localhost:8080/"
        }
      },
      "execution_count": null,
      "outputs": [
        {
          "output_type": "stream",
          "name": "stdout",
          "text": [
            "Common elements: [1, 4, 5]\n"
          ]
        }
      ]
    },
    {
      "cell_type": "markdown",
      "source": [],
      "metadata": {
        "id": "SV4jJjfyk9S3"
      }
    },
    {
      "cell_type": "markdown",
      "metadata": {
        "id": "uHkd-y5VhVWC"
      },
      "source": [
        "## Question 15\n",
        "Write a Python program to randomly divide the students in this class into maximum of eight groups for term projects, each group should have at least 4 students but no more than 6 students (including 6).\n",
        "\n",
        "Here is the students list:\n",
        "\n",
        "student_list_spring_2024=[rb0846,\n",
        "ac1964,\n",
        "hc0612,\n",
        "md0912,\n",
        "ad1198,\n",
        "md0894,\n",
        "md0825,\n",
        "vg0598,\n",
        "vg0433,\n",
        "mh1068,\n",
        "yj0173,\n",
        "pk0553,\n",
        "tk0411,\n",
        "srk0204,\n",
        "sk2922,\n",
        "sk2936,\n",
        "mk1302,\n",
        "mk1317,\n",
        "tk0412,\n",
        "vk0656,\n",
        "sm2985,\n",
        "mm2372,\n",
        "un0045,\n",
        "an0892,\n",
        "sn0913,\n",
        "gp0252,\n",
        "ap1484,\n",
        "mr1765,\n",
        "sr1385,\n",
        "sr1335,\n",
        "hs0665,\n",
        "ms2060,\n",
        "gt0217,\n",
        "nt0385,\n",
        "tv0186,\n",
        "sv1394,\n",
        "sv1752,\n",
        "sv1555,\n",
        "sy0594\n",
        "]\n"
      ]
    },
    {
      "cell_type": "code",
      "source": [
        "15\n",
        "import random\n",
        "\n",
        "student_list_spring_2024 = [\n",
        "    'rb0846', 'ac1964', 'hc0612', 'md0912', 'ad1198', 'md0894', 'md0825',\n",
        "    'vg0598', 'vg0433', 'mh1068', 'yj0173', 'pk0553', 'tk0411', 'srk0204',\n",
        "    'sk2922', 'sk2936', 'mk1302', 'mk1317', 'tk0412', 'vk0656', 'sm2985',\n",
        "    'mm2372', 'un0045', 'an0892', 'sn0913', 'gp0252', 'ap1484', 'mr1765',\n",
        "    'sr1385', 'sr1335', 'hs0665', 'ms2060', 'gt0217', 'nt0385', 'tv0186',\n",
        "    'sv1394', 'sv1752', 'sv1555', 'sy0594'\n",
        "]\n",
        "\n",
        "def divide_students(students, max_groups=8, min_group_size=4, max_group_size=6):\n",
        "\n",
        "    random.shuffle(students)\n",
        "\n",
        "\n",
        "    groups = []\n",
        "    current_group = []\n",
        "\n",
        "    for student in students:\n",
        "        current_group.append(student)\n",
        "\n",
        "        if len(current_group) == max_group_size:\n",
        "            groups.append(current_group)\n",
        "            current_group = []\n",
        "\n",
        "    if current_group:\n",
        "        groups.append(current_group)\n",
        "\n",
        "    while len(groups) > max_groups:\n",
        "\n",
        "        smallest_group = min(groups, key=len)\n",
        "        groups.remove(smallest_group)\n",
        "\n",
        "        for student in smallest_group:\n",
        "            added = False\n",
        "            for group in groups:\n",
        "                if len(group) < max_group_size:\n",
        "                    group.append(student)\n",
        "                    added = True\n",
        "                    break\n",
        "            if not added:\n",
        "                groups.append([student])\n",
        "\n",
        "    for group in groups:\n",
        "        if len(group) < min_group_size:\n",
        "\n",
        "            while len(group) < min_group_size and groups:\n",
        "\n",
        "                largest_group = max(groups, key=len)\n",
        "                if len(largest_group) > max_group_size:\n",
        "\n",
        "                    student = largest_group.pop()\n",
        "                    group.append(student)\n",
        "                else:\n",
        "                    break\n",
        "\n",
        "    return groups\n",
        "\n",
        "student_groups = divide_students(student_list_spring_2024)\n",
        "\n",
        "for idx, group in enumerate(student_groups):\n",
        "    print(f\"Group {idx + 1}: {group}\")"
      ],
      "metadata": {
        "id": "B8-kugc_RW6h",
        "outputId": "5c38b281-ded7-4a7a-ac5d-80eadd83293d",
        "colab": {
          "base_uri": "https://localhost:8080/"
        }
      },
      "execution_count": null,
      "outputs": [
        {
          "output_type": "stream",
          "name": "stdout",
          "text": [
            "Group 1: ['vg0433', 'sv1555', 'sv1394', 'md0912', 'yj0173', 'mm2372']\n",
            "Group 2: ['ms2060', 'mh1068', 'rb0846', 'vg0598', 'un0045', 'sr1335']\n",
            "Group 3: ['pk0553', 'gp0252', 'hc0612', 'ap1484', 'sr1385', 'nt0385']\n",
            "Group 4: ['sv1752', 'srk0204', 'tk0411', 'sn0913', 'ac1964', 'sy0594']\n",
            "Group 5: ['sk2936', 'mk1317', 'tk0412', 'md0894', 'gt0217', 'sk2922']\n",
            "Group 6: ['mr1765', 'md0825', 'sm2985', 'an0892', 'ad1198', 'hs0665']\n",
            "Group 7: ['mk1302', 'vk0656', 'tv0186']\n"
          ]
        }
      ]
    },
    {
      "cell_type": "markdown",
      "source": [],
      "metadata": {
        "id": "_87jw7jKlAV_"
      }
    },
    {
      "cell_type": "markdown",
      "metadata": {
        "id": "fmZ9vX20Qs3d"
      },
      "source": [
        "## Question 16\n",
        "Create a program that takes a positive integer 'n' as input and prints the count of even numbers from 1 to 'n'. Optimize the loop using the continue statement."
      ]
    },
    {
      "cell_type": "code",
      "source": [
        "16\n",
        "\n",
        "def count_even_numbers(n):\n",
        "\n",
        "    count = 0\n",
        "\n",
        "\n",
        "    for i in range(1, n + 1):\n",
        "        if i % 2 != 0:\n",
        "            continue\n",
        "        count += 1\n",
        "\n",
        "    return count\n",
        "\n",
        "n = int(input(\"Enter a positive integer n: \"))\n",
        "\n",
        "if n <= 0:\n",
        "    print(\"Please enter a positive integer.\")\n",
        "else:\n",
        "\n",
        "    even_count = count_even_numbers(n)\n",
        "    print(\"Count of even numbers from 1 to\", n, \"is:\", even_count)"
      ],
      "metadata": {
        "id": "VOtZIoUCSLsk",
        "outputId": "317ccb7a-7d7a-45fe-e6d0-a3b5f9508113",
        "colab": {
          "base_uri": "https://localhost:8080/"
        }
      },
      "execution_count": null,
      "outputs": [
        {
          "output_type": "stream",
          "name": "stdout",
          "text": [
            "Enter a positive integer n: 23\n",
            "Count of even numbers from 1 to 23 is: 11\n"
          ]
        }
      ]
    },
    {
      "cell_type": "markdown",
      "source": [],
      "metadata": {
        "id": "Aunrs90xlDEt"
      }
    },
    {
      "cell_type": "markdown",
      "metadata": {
        "id": "hvq4APMhQs3d"
      },
      "source": [
        "## Question 17\n",
        "Develop a Python function called 'count_vowels' that takes a string as input and returns the count of vowels (both lowercase and uppercase) present in the string, ignoring spaces and non-alphabetic characters."
      ]
    },
    {
      "cell_type": "code",
      "source": [
        "17\n",
        "def count_vowels(s):\n",
        "\n",
        "    vowels = \"aeiouAEIOU\"\n",
        "\n",
        "    count = 0\n",
        "\n",
        "\n",
        "    for char in s:\n",
        "\n",
        "        if char in vowels:\n",
        "            count += 1\n",
        "\n",
        "    return count\n",
        "\n",
        "\n",
        "input_string = input(\"Enter a string: \")\n",
        "\n",
        "\n",
        "vowel_count = count_vowels(input_string)\n",
        "print(\"Count of vowels:\", vowel_count)"
      ],
      "metadata": {
        "id": "-sHX-0XASmtI",
        "outputId": "b03a4bb8-a877-461b-929b-c37c693b6330",
        "colab": {
          "base_uri": "https://localhost:8080/"
        }
      },
      "execution_count": null,
      "outputs": [
        {
          "output_type": "stream",
          "name": "stdout",
          "text": [
            "Enter a string: i\n",
            "Count of vowels: 1\n"
          ]
        }
      ]
    },
    {
      "cell_type": "markdown",
      "source": [],
      "metadata": {
        "id": "FRyRbDUQlFxE"
      }
    },
    {
      "cell_type": "markdown",
      "source": [
        "## Question 18\n",
        "Create a custom exception named ValueTooSmallError in Python. Write a program that takes user input for an age, and if the entered age is less than 18, raise the ValueTooSmallError with an appropriate error message."
      ],
      "metadata": {
        "id": "55FWoSJPVVM6"
      }
    },
    {
      "cell_type": "code",
      "source": [
        "18\n",
        "\n",
        "class ValueTooSmallError(Exception):\n",
        "    def __init__(self, message=\"Age must be 18 or older\"):\n",
        "        self.message = message\n",
        "        super().__init__(self.message)\n",
        "\n",
        "def check_age(age):\n",
        "    if age < 18:\n",
        "        raise ValueTooSmallError\n",
        "\n",
        "def main():\n",
        "    try:\n",
        "\n",
        "        age = int(input(\"Enter your age: \"))\n",
        "\n",
        "        check_age(age)\n",
        "        print(\"Age accepted.\")\n",
        "    except ValueTooSmallError as e:\n",
        "        print(e)\n",
        "    except ValueError:\n",
        "        print(\"Invalid input. Please enter a valid integer.\")\n",
        "\n",
        "\n",
        "if __name__ == \"__main__\":\n",
        "    main()"
      ],
      "metadata": {
        "id": "umn6iKXVS2Ng",
        "outputId": "1a1e0177-3ac5-413a-a8a3-a55a0ade715e",
        "colab": {
          "base_uri": "https://localhost:8080/"
        }
      },
      "execution_count": null,
      "outputs": [
        {
          "output_type": "stream",
          "name": "stdout",
          "text": [
            "Enter your age: 11\n",
            "Age must be 18 or older\n"
          ]
        }
      ]
    },
    {
      "cell_type": "markdown",
      "source": [],
      "metadata": {
        "id": "GlB4JqYglKX0"
      }
    },
    {
      "cell_type": "markdown",
      "source": [
        "## Question 19\n",
        "Develop a script that reverses a given string without using built-in reverse functions."
      ],
      "metadata": {
        "id": "Q9ecagcaVazW"
      }
    },
    {
      "cell_type": "code",
      "source": [
        "19\n",
        "def reverse_string(s):\n",
        "\n",
        "    reversed_str = \"\"\n",
        "\n",
        "\n",
        "    for char in s:\n",
        "\n",
        "        reversed_str = char + reversed_str\n",
        "\n",
        "    return reversed_str\n",
        "\n",
        "input_string = input(\"Enter a string to reverse: \")\n",
        "\n",
        "reversed_string = reverse_string(input_string)\n",
        "\n",
        "print(\"Reversed string:\", reversed_string)\n"
      ],
      "metadata": {
        "id": "LntZH4rhTYGq",
        "outputId": "45d01dc5-c8c7-4686-ce8f-6bf7c64c70fc",
        "colab": {
          "base_uri": "https://localhost:8080/"
        }
      },
      "execution_count": null,
      "outputs": [
        {
          "output_type": "stream",
          "name": "stdout",
          "text": [
            "Enter a string to reverse: manikanta\n",
            "Reversed string: atnakinam\n"
          ]
        }
      ]
    },
    {
      "cell_type": "markdown",
      "source": [],
      "metadata": {
        "id": "1hsE0LKTlM5o"
      }
    },
    {
      "cell_type": "markdown",
      "source": [
        "## Question 20\n",
        "Implement a Python script to generate a random password of a specified length."
      ],
      "metadata": {
        "id": "ZFG6RibifMLu"
      }
    },
    {
      "cell_type": "code",
      "source": [
        "20\n",
        "import random\n",
        "import string\n",
        "\n",
        "def generate_password(length):\n",
        "    if length < 1:\n",
        "        raise ValueError(\"Password length must be at least 1\")\n",
        "\n",
        "\n",
        "    characters = string.ascii_letters + string.digits + string.punctuation\n",
        "\n",
        "\n",
        "    password = ''.join(random.choice(characters) for _ in range(length))\n",
        "\n",
        "    return password\n",
        "\n",
        "try:\n",
        "    length = int(input(\"Enter the desired password length: \"))\n",
        "\n",
        "    password = generate_password(length)\n",
        "    print(\"Generated password:\", password)\n",
        "except ValueError as e:\n",
        "    print(\"Invalid input:\", e)"
      ],
      "metadata": {
        "id": "8_fu7znvUCPo",
        "outputId": "f2629290-3087-4724-e159-abb5b5a0f381",
        "colab": {
          "base_uri": "https://localhost:8080/"
        }
      },
      "execution_count": null,
      "outputs": [
        {
          "output_type": "stream",
          "name": "stdout",
          "text": [
            "Enter the desired password length: 20\n",
            "Generated password: X',:Vi-uOfhM4{{[t<*$\n"
          ]
        }
      ]
    },
    {
      "cell_type": "markdown",
      "source": [],
      "metadata": {
        "id": "VgG360KTlPaz"
      }
    },
    {
      "cell_type": "markdown",
      "source": [
        "(21) Define a base class called 'Vehicle' with attributes make and model. Create a derived class Car that inherits from Vehicle and has an additional attribute 'num_doors'. Demonstrate an example of creating an instance of the 'Car' class and accessing its attributes."
      ],
      "metadata": {
        "id": "cboAr5pEWUf5"
      }
    },
    {
      "cell_type": "code",
      "source": [
        "21\n",
        "\n",
        "class Vehicle:\n",
        "    def __init__(self, make, model):\n",
        "        self.make = make\n",
        "        self.model = model\n",
        "\n",
        "    def display_info(self):\n",
        "        return f\"Make: {self.make}, Model: {self.model}\"\n",
        "\n",
        "\n",
        "class Car(Vehicle):\n",
        "    def __init__(self, make, model, num_doors):\n",
        "        super().__init__(make, model)\n",
        "        self.num_doors = num_doors\n",
        "\n",
        "    def display_info(self):\n",
        "        base_info = super().display_info()\n",
        "        return f\"{base_info}, Number of doors: {self.num_doors}\"\n",
        "\n",
        "\n",
        "my_car = Car(\"Toyota\", \"Camry\", 4)\n",
        "\n",
        "print(my_car.display_info())"
      ],
      "metadata": {
        "id": "3oKOuCp9UZCQ",
        "outputId": "0418e11d-25b0-4cee-9d44-10ff8cdc89d3",
        "colab": {
          "base_uri": "https://localhost:8080/"
        }
      },
      "execution_count": 6,
      "outputs": [
        {
          "output_type": "stream",
          "name": "stdout",
          "text": [
            "Make: Toyota, Model: Camry, Number of doors: 4\n"
          ]
        }
      ]
    },
    {
      "cell_type": "markdown",
      "source": [],
      "metadata": {
        "id": "cETgYuL4lV2Q"
      }
    },
    {
      "cell_type": "markdown",
      "source": [
        "(22) Create a class called 'Shape' with a method calculate_area(). Implement two derived classes 'Circle' and 'Rectangle' that inherit from Shape and override the calculate_area() method. Demonstrate polymorphism by creating instances of both derived classes and calling the calculate_area() method."
      ],
      "metadata": {
        "id": "J8HHefNtePwd"
      }
    },
    {
      "cell_type": "code",
      "source": [
        "22\n",
        "import math\n",
        "\n",
        "\n",
        "class Shape:\n",
        "    def calculate_area(self):\n",
        "        raise NotImplementedError(\"Subclasses must implement this method\")\n",
        "\n",
        "\n",
        "class Circle(Shape):\n",
        "    def __init__(self, radius):\n",
        "        self.radius = radius\n",
        "\n",
        "    def calculate_area(self):\n",
        "        return math.pi * (self.radius ** 20)\n",
        "\n",
        "\n",
        "class Rectangle(Shape):\n",
        "    def __init__(self, width, height):\n",
        "        self.width = width\n",
        "        self.height = height\n",
        "\n",
        "    def calculate_area(self):\n",
        "        return self.width * self.height\n",
        "\n",
        "\n",
        "def main():\n",
        "\n",
        "    circle = Circle(radius=5)\n",
        "    rectangle = Rectangle(width=478, height=678)\n",
        "\n",
        "\n",
        "    print(f\"Area of the circle: {circle.calculate_area():.2f}\")\n",
        "    print(f\"Area of the rectangle: {rectangle.calculate_area()}\")\n",
        "\n",
        "\n",
        "if __name__ == \"__main__\":\n",
        "    main()"
      ],
      "metadata": {
        "id": "DNCO-DmzWWY7",
        "outputId": "a10dcd12-e4e8-4bd7-98a9-8250955cfe49",
        "colab": {
          "base_uri": "https://localhost:8080/"
        }
      },
      "execution_count": 8,
      "outputs": [
        {
          "output_type": "stream",
          "name": "stdout",
          "text": [
            "Area of the circle: 299605622633914.31\n",
            "Area of the rectangle: 324084\n"
          ]
        }
      ]
    },
    {
      "cell_type": "markdown",
      "source": [],
      "metadata": {
        "id": "z-q1Awk5lcb_"
      }
    },
    {
      "cell_type": "markdown",
      "source": [
        "(23) Write a Python program that prompts the user to enter two numbers and perform a division operation. Handle exceptions for both zero division and invalid input (non-numeric input). Display appropriate error messages for each type of exception and ensure the program does not crash due to these errors."
      ],
      "metadata": {
        "id": "z0oqEAlTeMUS"
      }
    },
    {
      "cell_type": "code",
      "source": [
        "def main():\n",
        "    try:\n",
        "\n",
        "        num1 = float(input(\"Enter the first number: \"))\n",
        "        num2 = float(input(\"Enter the second number: \"))\n",
        "\n",
        "\n",
        "        result = num1 / num2\n",
        "\n",
        "\n",
        "        print(f\"The result of {num1} divided by {num2} is {result}\")\n",
        "\n",
        "    except ZeroDivisionError:\n",
        "\n",
        "        print(\"Error: Division by zero is not allowed.\")\n",
        "\n",
        "    except ValueError:\n",
        "\n",
        "        print(\"Error: Invalid input. Please enter numeric values.\")\n",
        "\n",
        "    except Exception as e:\n",
        "\n",
        "        print(f\"An unexpected error occurred: {e}\")\n",
        "\n",
        "\n",
        "if __name__ == \"__main__\":\n",
        "    main()"
      ],
      "metadata": {
        "id": "wFpmta5UWvxc",
        "outputId": "0d1d5721-3722-4c05-95c7-84c5015973dc",
        "colab": {
          "base_uri": "https://localhost:8080/"
        }
      },
      "execution_count": 9,
      "outputs": [
        {
          "output_type": "stream",
          "name": "stdout",
          "text": [
            "Enter the first number: 1999\n",
            "Enter the second number: 1996\n",
            "The result of 1999.0 divided by 1996.0 is 1.001503006012024\n"
          ]
        }
      ]
    }
  ],
  "metadata": {
    "colab": {
      "toc_visible": true,
      "provenance": [],
      "include_colab_link": true
    },
    "kernelspec": {
      "display_name": "Python 3",
      "name": "python3"
    }
  },
  "nbformat": 4,
  "nbformat_minor": 0
}